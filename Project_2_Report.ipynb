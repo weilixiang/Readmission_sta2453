{
 "cells": [
  {
   "cell_type": "code",
   "execution_count": 1,
   "metadata": {},
   "outputs": [
    {
     "data": {
      "text/plain": [
       "(101766, 50)"
      ]
     },
     "execution_count": 1,
     "metadata": {},
     "output_type": "execute_result"
    }
   ],
   "source": [
    "import pandas as pd\n",
    "import numpy as np\n",
    "import random\n",
    "import datetime\n",
    "import matplotlib.pyplot as plt\n",
    "import xgboost as xgb\n",
    "import sklearn.metrics\n",
    "from sklearn import model_selection\n",
    "from sklearn.preprocessing import OneHotEncoder\n",
    "from sklearn.metrics import roc_curve, auc\n",
    "from xgboost import XGBClassifier\n",
    "from xgboost import plot_tree\n",
    "import matplotlib.pyplot as plt\n",
    "from scipy import interp\n",
    "from sklearn.metrics import roc_auc_score\n",
    "from sklearn.metrics import confusion_matrix\n",
    "from sklearn.model_selection import learning_curve,GridSearchCV\n",
    "import shap\n",
    "from shap import TreeExplainer\n",
    "import matplotlib.pylab as pl\n",
    "\n",
    "data = pd.read_csv(\"data.csv\")\n",
    "data.shape"
   ]
  },
  {
   "cell_type": "code",
   "execution_count": 2,
   "metadata": {},
   "outputs": [],
   "source": [
    "#Remove \"[\", \")\", \">\", and \"<\"\n",
    "data['age']=data['age'].str.replace('[','')\n",
    "data['age']=data['age'].str.replace(')','')\n",
    "data['weight']=data['weight'].str.replace('[','')\n",
    "data['weight']=data['weight'].str.replace(')','')\n",
    "data['max_glu_serum']=data['max_glu_serum'].str.replace('>','greater_than_')\n",
    "data['A1Cresult']=data['A1Cresult'].str.replace('>','greater_than_')\n",
    "data['readmitted']=data['readmitted'].str.replace('>','greater_than_')\n",
    "data['readmitted']=data['readmitted'].str.replace('<','smaller_than_')\n"
   ]
  },
  {
   "cell_type": "markdown",
   "metadata": {},
   "source": [
    "# Missing Values\n",
    "Want to drop medical_specialty,weight ,payer_code for sure"
   ]
  },
  {
   "cell_type": "code",
   "execution_count": 3,
   "metadata": {},
   "outputs": [
    {
     "name": "stdout",
     "output_type": "stream",
     "text": [
      "race 2273\n",
      "gender 0\n",
      "age 0\n",
      "weight 98569\n",
      "payer_code 40256\n",
      "medical_specialty 49949\n",
      "diag_1 21\n",
      "diag_2 358\n",
      "diag_3 1423\n",
      "max_glu_serum 0\n",
      "A1Cresult 0\n",
      "metformin 0\n",
      "repaglinide 0\n",
      "nateglinide 0\n",
      "chlorpropamide 0\n",
      "glimepiride 0\n",
      "acetohexamide 0\n",
      "glipizide 0\n",
      "glyburide 0\n",
      "tolbutamide 0\n",
      "pioglitazone 0\n",
      "rosiglitazone 0\n",
      "acarbose 0\n",
      "miglitol 0\n",
      "troglitazone 0\n",
      "tolazamide 0\n",
      "examide 0\n",
      "citoglipton 0\n",
      "insulin 0\n",
      "glyburide-metformin 0\n",
      "glipizide-metformin 0\n",
      "glimepiride-pioglitazone 0\n",
      "metformin-rosiglitazone 0\n",
      "metformin-pioglitazone 0\n",
      "change 0\n",
      "diabetesMed 0\n",
      "readmitted 0\n"
     ]
    }
   ],
   "source": [
    "#Checking for missing values in dataset\n",
    "#In the dataset missing values are represented as '?' sign\n",
    "for col in data.columns:\n",
    "    if data[col].dtype == object:\n",
    "         print(col,data[col][data[col] == '?'].count())"
   ]
  },
  {
   "cell_type": "code",
   "execution_count": 4,
   "metadata": {},
   "outputs": [],
   "source": [
    "data['readmitted_urgent'] = (data['readmitted'] == 'smaller_than_30').astype(int)"
   ]
  },
  {
   "cell_type": "code",
   "execution_count": 5,
   "metadata": {},
   "outputs": [],
   "source": [
    "#Create new variable 'readmitted_yes' for binary classification\n",
    "data['readmitted_yes']= (data['readmitted'] == 'greater_than_30').astype(int) +  (data['readmitted'] == 'smaller_than_30').astype(int) "
   ]
  },
  {
   "cell_type": "code",
   "execution_count": 6,
   "metadata": {},
   "outputs": [
    {
     "data": {
      "text/plain": [
       "readmitted_yes\n",
       "0    54864\n",
       "1    46902\n",
       "Name: readmitted_yes, dtype: int64"
      ]
     },
     "execution_count": 6,
     "metadata": {},
     "output_type": "execute_result"
    }
   ],
   "source": [
    "data.groupby([\"readmitted_yes\"])['readmitted_yes'].count()"
   ]
  },
  {
   "cell_type": "code",
   "execution_count": 7,
   "metadata": {},
   "outputs": [
    {
     "data": {
      "text/plain": [
       "readmitted_urgent\n",
       "0    90409\n",
       "1    11357\n",
       "Name: readmitted_urgent, dtype: int64"
      ]
     },
     "execution_count": 7,
     "metadata": {},
     "output_type": "execute_result"
    }
   ],
   "source": [
    "data.groupby([\"readmitted_urgent\"])['readmitted_urgent'].count()"
   ]
  },
  {
   "cell_type": "code",
   "execution_count": 8,
   "metadata": {},
   "outputs": [],
   "source": [
    "# Encode change column, diabetesMed column\n",
    "# ch to Yes to 1, No to 1 \n",
    "# gender: Male to 1, Female to 0\n",
    "# DiabetesMed: Yed to 1, No to 0"
   ]
  },
  {
   "cell_type": "code",
   "execution_count": 9,
   "metadata": {},
   "outputs": [],
   "source": [
    "data['change'] = data['change'].replace('Ch', 1)\n",
    "data['change'] = data['change'].replace('No', 0)\n",
    "data['diabetesMed'] = data['diabetesMed'].replace('Yes', 1)\n",
    "data['diabetesMed'] = data['diabetesMed'].replace('No', 0)\n"
   ]
  },
  {
   "cell_type": "code",
   "execution_count": 10,
   "metadata": {},
   "outputs": [],
   "source": [
    "# there are 24 features of medicine,which indicates whether the drug \n",
    "# was prescribed or there was a change in the dosage\n",
    "# Possible values: “up” if the dosage was increased during the encounter, \n",
    "# “down” if the dosage was decreased, “steady” if the dosage did not change,\n",
    "# and “no” if the drug was not prescribed\n",
    "\n",
    "meds = ['metformin', 'repaglinide', 'nateglinide', 'chlorpropamide',\n",
    "        'glimepiride', 'glipizide', 'glyburide', 'pioglitazone',\n",
    "        'rosiglitazone', 'acarbose', 'miglitol', 'insulin', 'glyburide-metformin',\n",
    "        'tolazamide', 'metformin-pioglitazone','metformin-rosiglitazone', 'glimepiride-pioglitazone',\n",
    "        'glipizide-metformin', 'troglitazone', 'tolbutamide', 'acetohexamide']"
   ]
  },
  {
   "cell_type": "code",
   "execution_count": 11,
   "metadata": {},
   "outputs": [],
   "source": [
    "# Encode Up to 3, steady to 2, down to 1, no to 0\n",
    "for col in meds:\n",
    "    data[col] = data[col].replace('No', 0)\n",
    "    data[col] = data[col].replace('Steady', 2)\n",
    "    data[col] = data[col].replace('Up', 3)\n",
    "    data[col] = data[col].replace('Down', 1)"
   ]
  },
  {
   "cell_type": "code",
   "execution_count": 12,
   "metadata": {},
   "outputs": [
    {
     "data": {
      "text/plain": [
       "age\n",
       "0-10        161\n",
       "10-20       691\n",
       "20-30      1657\n",
       "30-40      3775\n",
       "40-50      9685\n",
       "50-60     17256\n",
       "60-70     22483\n",
       "70-80     26068\n",
       "80-90     17197\n",
       "90-100     2793\n",
       "Name: age, dtype: int64"
      ]
     },
     "execution_count": 12,
     "metadata": {},
     "output_type": "execute_result"
    }
   ],
   "source": [
    "data.groupby(['age'])['age'].count()"
   ]
  },
  {
   "cell_type": "code",
   "execution_count": 13,
   "metadata": {},
   "outputs": [],
   "source": [
    "\n",
    "# Convert age to numerical, take the mid point of each interval, 5,15,25, etc\n",
    "\n",
    "data['age'] = data['age'].replace('0-10', 5)\n",
    "data['age'] = data['age'].replace('10-20', 15)\n",
    "data['age'] = data['age'].replace('20-30', 25)\n",
    "data['age'] = data['age'].replace('30-40', 35)\n",
    "data['age'] = data['age'].replace('40-50', 45)\n",
    "data['age'] = data['age'].replace('50-60', 55)\n",
    "data['age'] = data['age'].replace('60-70', 65)\n",
    "data['age'] = data['age'].replace('70-80', 75)\n",
    "data['age'] = data['age'].replace('80-90', 85)\n",
    "data['age'] = data['age'].replace('90-100', 95)"
   ]
  },
  {
   "cell_type": "code",
   "execution_count": 14,
   "metadata": {},
   "outputs": [
    {
     "data": {
      "text/plain": [
       "citoglipton\n",
       "No    101766\n",
       "Name: citoglipton, dtype: int64"
      ]
     },
     "execution_count": 14,
     "metadata": {},
     "output_type": "execute_result"
    }
   ],
   "source": [
    "# convert examide and citoglipton to binary\n",
    "data.groupby(['examide'])['examide'].count()\n",
    "data.groupby(['citoglipton'])['citoglipton'].count()\n",
    "# No need, all values are NO, just drop them"
   ]
  },
  {
   "cell_type": "code",
   "execution_count": 15,
   "metadata": {},
   "outputs": [],
   "source": [
    "# Drop payer_code, weight, medical_specialty, readmitted, examide, citoglipton\n",
    "del_columns = ['weight', 'payer_code', 'medical_specialty','examide','citoglipton','readmitted']\n",
    "data.drop(del_columns, inplace=True, axis=1)"
   ]
  },
  {
   "cell_type": "code",
   "execution_count": 16,
   "metadata": {},
   "outputs": [],
   "source": [
    "id_list = []\n",
    "encounter_list = []\n",
    "for index, row in data.iterrows():\n",
    "    if row['patient_nbr'] not in id_list:\n",
    "        id_list.append(row['patient_nbr'])\n",
    "        encounter_list.append(index)\n"
   ]
  },
  {
   "cell_type": "code",
   "execution_count": 17,
   "metadata": {},
   "outputs": [],
   "source": [
    "df = data.iloc[list(encounter_list),:]"
   ]
  },
  {
   "cell_type": "code",
   "execution_count": 18,
   "metadata": {},
   "outputs": [
    {
     "name": "stderr",
     "output_type": "stream",
     "text": [
      "\n",
      "A value is trying to be set on a copy of a slice from a DataFrame\n",
      "\n",
      "See the caveats in the documentation: http://pandas.pydata.org/pandas-docs/stable/indexing.html#indexing-view-versus-copy\n"
     ]
    }
   ],
   "source": [
    "del_col = [\"encounter_id\",\"patient_nbr\"]\n",
    "df.drop(del_col, inplace=True, axis=1)"
   ]
  },
  {
   "cell_type": "code",
   "execution_count": 19,
   "metadata": {},
   "outputs": [],
   "source": [
    "df.drop(df[df.discharge_disposition_id == 11].index, inplace=True)\n",
    "df.drop(df[df.discharge_disposition_id == 13].index, inplace=True)\n",
    "df.drop(df[df.discharge_disposition_id == 14].index, inplace=True)\n",
    "df.drop(df[df.discharge_disposition_id == 19].index, inplace=True)\n",
    "df.drop(df[df.discharge_disposition_id == 20].index, inplace=True)\n",
    "df.drop(df[df.discharge_disposition_id == 21].index, inplace=True)"
   ]
  },
  {
   "cell_type": "code",
   "execution_count": 20,
   "metadata": {},
   "outputs": [],
   "source": [
    "df.drop(df[df.gender == \"Unknown/Invalid\"].index, inplace=True)"
   ]
  },
  {
   "cell_type": "code",
   "execution_count": 21,
   "metadata": {},
   "outputs": [
    {
     "data": {
      "text/plain": [
       "(69970, 44)"
      ]
     },
     "execution_count": 21,
     "metadata": {},
     "output_type": "execute_result"
    }
   ],
   "source": [
    "df.shape"
   ]
  },
  {
   "cell_type": "code",
   "execution_count": 22,
   "metadata": {},
   "outputs": [
    {
     "name": "stderr",
     "output_type": "stream",
     "text": [
      "\n",
      "A value is trying to be set on a copy of a slice from a DataFrame.\n",
      "Try using .loc[row_indexer,col_indexer] = value instead\n",
      "\n",
      "See the caveats in the documentation: http://pandas.pydata.org/pandas-docs/stable/indexing.html#indexing-view-versus-copy\n",
      "\n",
      "A value is trying to be set on a copy of a slice from a DataFrame.\n",
      "Try using .loc[row_indexer,col_indexer] = value instead\n",
      "\n",
      "See the caveats in the documentation: http://pandas.pydata.org/pandas-docs/stable/indexing.html#indexing-view-versus-copy\n",
      "\n",
      "A value is trying to be set on a copy of a slice from a DataFrame.\n",
      "Try using .loc[row_indexer,col_indexer] = value instead\n",
      "\n",
      "See the caveats in the documentation: http://pandas.pydata.org/pandas-docs/stable/indexing.html#indexing-view-versus-copy\n",
      "\n",
      "A value is trying to be set on a copy of a slice from a DataFrame.\n",
      "Try using .loc[row_indexer,col_indexer] = value instead\n",
      "\n",
      "See the caveats in the documentation: http://pandas.pydata.org/pandas-docs/stable/indexing.html#indexing-view-versus-copy\n"
     ]
    }
   ],
   "source": [
    "# Recode diag1, diag2, diag3\n",
    "\n",
    "df.loc[df['diag_1'].str.contains('V'), ['diag_1']] = \"SUPPLEMENTARY\"\n",
    "df.loc[df['diag_2'].str.contains('V'), ['diag_2']] = \"SUPPLEMENTARY\"\n",
    "df.loc[df['diag_3'].str.contains('V'), ['diag_3']] = \"SUPPLEMENTARY\"\n",
    "\n",
    "df.loc[df['diag_1'].str.contains('E'), ['diag_1']] = \"SUPPLEMENTARY_EXTERNAL\"\n",
    "df.loc[df['diag_2'].str.contains('E'), ['diag_2']] = \"SUPPLEMENTARY_EXTERNAL\"\n",
    "df.loc[df['diag_3'].str.contains('E'), ['diag_3']] = \"SUPPLEMENTARY_EXTERNAL\"\n",
    "\n",
    "df['diag_1'] = df['diag_1'].replace('?', \"NONE\")\n",
    "df['diag_2'] = df['diag_2'].replace('?', \"NONE\")\n",
    "df['diag_3'] = df['diag_3'].replace('?', \"NONE\")"
   ]
  },
  {
   "cell_type": "code",
   "execution_count": 23,
   "metadata": {},
   "outputs": [],
   "source": [
    "#df['diag_1'] = pd.to_numeric(df['diag_1'], errors='ignore')\n",
    "#df['diag_2']= pd.to_numeric(df['diag_2'], errors='ignore')\n",
    "#df['diag_3']= pd.to_numeric(df['diag_3'], errors='ignore')"
   ]
  },
  {
   "cell_type": "code",
   "execution_count": 24,
   "metadata": {},
   "outputs": [],
   "source": [
    "# Helper function to convert str to float\n",
    "def change_to_num(col):\n",
    "    res = []\n",
    "    for i in col:\n",
    "        if i not in {\"NONE\",\"SUPPLEMENTARY_EXTERNAL\",\"SUPPLEMENTARY\"}:\n",
    "            res.append(float(i))\n",
    "        else:\n",
    "            res.append(i)\n",
    "    return res\n",
    "        "
   ]
  },
  {
   "cell_type": "code",
   "execution_count": 25,
   "metadata": {},
   "outputs": [
    {
     "name": "stderr",
     "output_type": "stream",
     "text": [
      "\n",
      "A value is trying to be set on a copy of a slice from a DataFrame.\n",
      "Try using .loc[row_indexer,col_indexer] = value instead\n",
      "\n",
      "See the caveats in the documentation: http://pandas.pydata.org/pandas-docs/stable/indexing.html#indexing-view-versus-copy\n",
      "\n",
      "A value is trying to be set on a copy of a slice from a DataFrame.\n",
      "Try using .loc[row_indexer,col_indexer] = value instead\n",
      "\n",
      "See the caveats in the documentation: http://pandas.pydata.org/pandas-docs/stable/indexing.html#indexing-view-versus-copy\n",
      "\n",
      "A value is trying to be set on a copy of a slice from a DataFrame.\n",
      "Try using .loc[row_indexer,col_indexer] = value instead\n",
      "\n",
      "See the caveats in the documentation: http://pandas.pydata.org/pandas-docs/stable/indexing.html#indexing-view-versus-copy\n"
     ]
    }
   ],
   "source": [
    "df['diag_1'] = change_to_num(df['diag_1'])\n",
    "df['diag_2'] = change_to_num(df['diag_2'])\n",
    "df['diag_3'] = change_to_num(df['diag_3'])"
   ]
  },
  {
   "cell_type": "code",
   "execution_count": 26,
   "metadata": {},
   "outputs": [
    {
     "data": {
      "text/plain": [
       "0                         250.83\n",
       "1                            276\n",
       "2                            648\n",
       "3                              8\n",
       "4                            197\n",
       "5                            414\n",
       "6                            414\n",
       "7                            428\n",
       "8                            398\n",
       "9                            434\n",
       "10                         250.7\n",
       "11                           157\n",
       "12                           428\n",
       "13                           428\n",
       "14                           518\n",
       "15                           999\n",
       "16                           410\n",
       "17                           682\n",
       "18                           402\n",
       "19                           737\n",
       "20                           410\n",
       "21                           572\n",
       "22                           410\n",
       "23        SUPPLEMENTARY_EXTERNAL\n",
       "24                           189\n",
       "25                           786\n",
       "26                           427\n",
       "27                           996\n",
       "28                           277\n",
       "29                           428\n",
       "                   ...          \n",
       "101715                       414\n",
       "101716                       574\n",
       "101717                       518\n",
       "101718                       428\n",
       "101719                    250.13\n",
       "101720                       584\n",
       "101721                       599\n",
       "101722                       486\n",
       "101723                       715\n",
       "101724                       518\n",
       "101725                       428\n",
       "101726                       348\n",
       "101729                       276\n",
       "101730                       786\n",
       "101731                       250\n",
       "101732                       491\n",
       "101733                       491\n",
       "101737                       182\n",
       "101740                       414\n",
       "101745                       682\n",
       "101748                       295\n",
       "101749                       715\n",
       "101751                       424\n",
       "101752                       348\n",
       "101753                     250.8\n",
       "101754                       574\n",
       "101755                       592\n",
       "101756                       996\n",
       "101758                       292\n",
       "101765                       530\n",
       "Name: diag_1, Length: 69970, dtype: object"
      ]
     },
     "execution_count": 26,
     "metadata": {},
     "output_type": "execute_result"
    }
   ],
   "source": [
    "df['diag_1']"
   ]
  },
  {
   "cell_type": "code",
   "execution_count": 27,
   "metadata": {},
   "outputs": [],
   "source": [
    "new_diag_1 = []\n",
    "for index, row in df.iterrows():\n",
    "    if row['diag_1'] not in {\"NONE\",\"SUPPLEMENTARY_EXTERNAL\",\"SUPPLEMENTARY\"}:\n",
    "        if (row['diag_1'] >= 1 and row['diag_1'] <= 139):\n",
    "            new_diag_1.append(\"INFECTIOUS_PARASTIC_DISEASE\")\n",
    "        elif (row['diag_1'] >= 140 and row['diag_1'] <= 239):\n",
    "            new_diag_1.append(\"NEOPLASMS\")\n",
    "        elif (row['diag_1'] >= 240 and row['diag_1'] <= 279):\n",
    "            new_diag_1.append(\"ENDO_NUTRI_METABOLIC\")\n",
    "        elif (row['diag_1'] >= 280 and row['diag_1'] <= 289):\n",
    "            new_diag_1.append(\"BLOOD_ORGANS_DISEASE\")\n",
    "        elif (row['diag_1'] >= 290 and row['diag_1'] <= 319):\n",
    "            new_diag_1.append(\"MENTAL_DISORDER\")\n",
    "        elif (row['diag_1'] >= 320 and row['diag_1'] <= 389):\n",
    "            new_diag_1.append(\"NERVOUS_SENSE_DISEASE\")\n",
    "        elif (row['diag_1'] >= 390 and row['diag_1'] <= 459):\n",
    "            new_diag_1.append(\"CIRCULATORY_SYSTEM_DISEASE\")\n",
    "        elif (row['diag_1'] >= 460 and row['diag_1'] <= 519):\n",
    "            new_diag_1.append(\"RESPIRATORY_SYSTEM_DISEASE\")\n",
    "        elif (row['diag_1'] >= 520 and row['diag_1'] <= 579):\n",
    "            new_diag_1.append(\"DIGESTIVE_SYSTEM_DISEASE\")\n",
    "        elif (row['diag_1'] >= 580 and row['diag_1'] <= 629):\n",
    "            new_diag_1.append(\"GENETOURINARY_SYSTEM_DISEASE\")\n",
    "        elif (row['diag_1'] >= 630 and row['diag_1'] <= 679):\n",
    "            new_diag_1.append(\"PREGNANCY\")\n",
    "        elif (row['diag_1'] >= 680 and row['diag_1'] <= 709):\n",
    "            new_diag_1.append(\"SKIN_DISEASE\")\n",
    "        elif (row['diag_1'] >= 710 and row['diag_1'] <= 739):\n",
    "            new_diag_1.append(\"MUSCULOSKELETAL_SYSTEM_DISEASE\")\n",
    "        elif (row['diag_1'] >= 740 and row['diag_1'] <= 759):\n",
    "            new_diag_1.append(\"CONGENITAL_ANOMALIES\")\n",
    "        elif (row['diag_1'] >= 760 and row['diag_1'] <= 779):\n",
    "            new_diag_1.append(\"PERINATAL_PERIOD\")\n",
    "        elif (row['diag_1'] >= 780 and row['diag_1'] <= 799):\n",
    "            new_diag_1.append(\"ILL_DEFINED_COND\")\n",
    "        elif (row['diag_1'] >= 800 and row['diag_1'] <= 999):\n",
    "            new_diag_1.append(\"INJURY_POISONING\")\n",
    "    else:\n",
    "        new_diag_1.append(row['diag_1'])\n"
   ]
  },
  {
   "cell_type": "code",
   "execution_count": 28,
   "metadata": {},
   "outputs": [
    {
     "name": "stderr",
     "output_type": "stream",
     "text": [
      "\n",
      "A value is trying to be set on a copy of a slice from a DataFrame.\n",
      "Try using .loc[row_indexer,col_indexer] = value instead\n",
      "\n",
      "See the caveats in the documentation: http://pandas.pydata.org/pandas-docs/stable/indexing.html#indexing-view-versus-copy\n"
     ]
    }
   ],
   "source": [
    "df['diag_1'] = pd.Series(new_diag_1)"
   ]
  },
  {
   "cell_type": "code",
   "execution_count": 29,
   "metadata": {},
   "outputs": [
    {
     "name": "stderr",
     "output_type": "stream",
     "text": [
      "\n",
      "A value is trying to be set on a copy of a slice from a DataFrame.\n",
      "Try using .loc[row_indexer,col_indexer] = value instead\n",
      "\n",
      "See the caveats in the documentation: http://pandas.pydata.org/pandas-docs/stable/indexing.html#indexing-view-versus-copy\n"
     ]
    }
   ],
   "source": [
    "new_diag_2 = []\n",
    "for index, row in df.iterrows():\n",
    "    if row['diag_2'] not in {\"NONE\",\"SUPPLEMENTARY_EXTERNAL\",\"SUPPLEMENTARY\"}:\n",
    "        if (row['diag_2'] >= 1 and row['diag_2'] <= 139):\n",
    "            new_diag_2.append(\"INFECTIOUS_PARASTIC_DISEASE\")\n",
    "        elif (row['diag_2'] >= 140 and row['diag_2'] <= 239):\n",
    "            new_diag_2.append(\"NEOPLASMS\")\n",
    "        elif (row['diag_2'] >= 240 and row['diag_2'] <= 279):\n",
    "            new_diag_2.append(\"ENDO_NUTRI_METABOLIC\")\n",
    "        elif (row['diag_2'] >= 280 and row['diag_2'] <= 289):\n",
    "            new_diag_2.append(\"BLOOD_ORGANS_DISEASE\")\n",
    "        elif (row['diag_2'] >= 290 and row['diag_2'] <= 319):\n",
    "            new_diag_2.append(\"MENTAL_DISORDER\")\n",
    "        elif (row['diag_2'] >= 320 and row['diag_2'] <= 389):\n",
    "            new_diag_2.append(\"NERVOUS_SENSE_DISEASE\")\n",
    "        elif (row['diag_2'] >= 390 and row['diag_2'] <= 459):\n",
    "            new_diag_2.append(\"CIRCULATORY_SYSTEM_DISEASE\")\n",
    "        elif (row['diag_2'] >= 460 and row['diag_2'] <= 519):\n",
    "            new_diag_2.append(\"RESPIRATORY_SYSTEM_DISEASE\")\n",
    "        elif (row['diag_2'] >= 520 and row['diag_2'] <= 579):\n",
    "            new_diag_2.append(\"DIGESTIVE_SYSTEM_DISEASE\")\n",
    "        elif (row['diag_2'] >= 580 and row['diag_2'] <= 629):\n",
    "            new_diag_2.append(\"GENETOURINARY_SYSTEM_DISEASE\")\n",
    "        elif (row['diag_2'] >= 630 and row['diag_2'] <= 679):\n",
    "            new_diag_2.append(\"PREGNANCY\")\n",
    "        elif (row['diag_2'] >= 680 and row['diag_2'] <= 709):\n",
    "            new_diag_2.append(\"SKIN_DISEASE\")\n",
    "        elif (row['diag_2'] >= 710 and row['diag_2'] <= 739):\n",
    "            new_diag_2.append(\"MUSCULOSKELETAL_SYSTEM_DISEASE\")\n",
    "        elif (row['diag_2'] >= 740 and row['diag_2'] <= 759):\n",
    "            new_diag_2.append(\"CONGENITAL_ANOMALIES\")\n",
    "        elif (row['diag_2'] >= 760 and row['diag_2'] <= 779):\n",
    "            new_diag_2.append(\"PERINATAL_PERIOD\")\n",
    "        elif (row['diag_2'] >= 780 and row['diag_2'] <= 799):\n",
    "            new_diag_2.append(\"ILL_DEFINED_COND\")\n",
    "        elif (row['diag_2'] >= 800 and row['diag_2'] <= 999):\n",
    "            new_diag_2.append(\"INJURY_POISONING\")\n",
    "    else:\n",
    "        new_diag_2.append(row['diag_2'])\n",
    "\n",
    "df['diag_2'] = pd.Series(new_diag_2)"
   ]
  },
  {
   "cell_type": "code",
   "execution_count": 30,
   "metadata": {},
   "outputs": [
    {
     "name": "stderr",
     "output_type": "stream",
     "text": [
      "\n",
      "A value is trying to be set on a copy of a slice from a DataFrame.\n",
      "Try using .loc[row_indexer,col_indexer] = value instead\n",
      "\n",
      "See the caveats in the documentation: http://pandas.pydata.org/pandas-docs/stable/indexing.html#indexing-view-versus-copy\n"
     ]
    }
   ],
   "source": [
    "new_diag_3 = []\n",
    "for index, row in df.iterrows():\n",
    "    if row['diag_3'] not in {\"NONE\",\"SUPPLEMENTARY_EXTERNAL\",\"SUPPLEMENTARY\"}:\n",
    "        if (row['diag_3'] >= 1 and row['diag_3'] <= 139):\n",
    "            new_diag_3.append(\"INFECTIOUS_PARASTIC_DISEASE\")\n",
    "        elif (row['diag_3'] >= 140 and row['diag_3'] <= 239):\n",
    "            new_diag_3.append(\"NEOPLASMS\")\n",
    "        elif (row['diag_3'] >= 240 and row['diag_3'] <= 279):\n",
    "            new_diag_3.append(\"ENDO_NUTRI_METABOLIC\")\n",
    "        elif (row['diag_3'] >= 280 and row['diag_3'] <= 289):\n",
    "            new_diag_3.append(\"BLOOD_ORGANS_DISEASE\")\n",
    "        elif (row['diag_3'] >= 290 and row['diag_3'] <= 319):\n",
    "            new_diag_3.append(\"MENTAL_DISORDER\")\n",
    "        elif (row['diag_3'] >= 320 and row['diag_3'] <= 389):\n",
    "            new_diag_3.append(\"NERVOUS_SENSE_DISEASE\")\n",
    "        elif (row['diag_3'] >= 390 and row['diag_3'] <= 459):\n",
    "            new_diag_3.append(\"CIRCULATORY_SYSTEM_DISEASE\")\n",
    "        elif (row['diag_3'] >= 460 and row['diag_3'] <= 519):\n",
    "            new_diag_3.append(\"RESPIRATORY_SYSTEM_DISEASE\")\n",
    "        elif (row['diag_3'] >= 520 and row['diag_3'] <= 579):\n",
    "            new_diag_3.append(\"DIGESTIVE_SYSTEM_DISEASE\")\n",
    "        elif (row['diag_3'] >= 580 and row['diag_3'] <= 629):\n",
    "            new_diag_3.append(\"GENETOURINARY_SYSTEM_DISEASE\")\n",
    "        elif (row['diag_3'] >= 630 and row['diag_3'] <= 679):\n",
    "            new_diag_3.append(\"PREGNANCY\")\n",
    "        elif (row['diag_3'] >= 680 and row['diag_3'] <= 709):\n",
    "            new_diag_3.append(\"SKIN_DISEASE\")\n",
    "        elif (row['diag_3'] >= 710 and row['diag_3'] <= 739):\n",
    "            new_diag_3.append(\"MUSCULOSKELETAL_SYSTEM_DISEASE\")\n",
    "        elif (row['diag_3'] >= 740 and row['diag_3'] <= 759):\n",
    "            new_diag_3.append(\"CONGENITAL_ANOMALIES\")\n",
    "        elif (row['diag_3'] >= 760 and row['diag_3'] <= 779):\n",
    "            new_diag_3.append(\"PERINATAL_PERIOD\")\n",
    "        elif (row['diag_3'] >= 780 and row['diag_3'] <= 799):\n",
    "            new_diag_3.append(\"ILL_DEFINED_COND\")\n",
    "        elif (row['diag_3'] >= 800 and row['diag_3'] <= 999):\n",
    "            new_diag_3.append(\"INJURY_POISONING\")\n",
    "    else:\n",
    "        new_diag_3.append(row['diag_3'])\n",
    "\n",
    "df['diag_3'] = pd.Series(new_diag_3)"
   ]
  },
  {
   "cell_type": "code",
   "execution_count": 31,
   "metadata": {},
   "outputs": [],
   "source": [
    "df.to_csv(\"~/Desktop/recode_data.csv\",index=False)"
   ]
  },
  {
   "cell_type": "code",
   "execution_count": 32,
   "metadata": {},
   "outputs": [
    {
     "data": {
      "text/plain": [
       "gender\n",
       "Female    37229\n",
       "Male      32741\n",
       "Name: gender, dtype: int64"
      ]
     },
     "execution_count": 32,
     "metadata": {},
     "output_type": "execute_result"
    }
   ],
   "source": [
    "df.groupby(['gender'])['gender'].count()"
   ]
  },
  {
   "cell_type": "code",
   "execution_count": 33,
   "metadata": {},
   "outputs": [],
   "source": [
    "df.drop(df[df.gender == \"Unknown/Invalid\"].index, inplace=True)"
   ]
  },
  {
   "cell_type": "code",
   "execution_count": 34,
   "metadata": {},
   "outputs": [
    {
     "data": {
      "text/plain": [
       "gender\n",
       "Female    37229\n",
       "Male      32741\n",
       "Name: gender, dtype: int64"
      ]
     },
     "execution_count": 34,
     "metadata": {},
     "output_type": "execute_result"
    }
   ],
   "source": [
    "df.groupby(['gender'])['gender'].count()"
   ]
  },
  {
   "cell_type": "code",
   "execution_count": 35,
   "metadata": {},
   "outputs": [],
   "source": [
    "df_2 = pd.get_dummies(df, columns=['diag_1','diag_2','diag_3','max_glu_serum',\n",
    "                                   'A1Cresult','race','gender',\n",
    "                                   'admission_type_id',\n",
    "                                   'discharge_disposition_id','admission_source_id'], drop_first=True)"
   ]
  },
  {
   "cell_type": "code",
   "execution_count": 36,
   "metadata": {},
   "outputs": [
    {
     "data": {
      "text/plain": [
       "Index(['age', 'time_in_hospital', 'num_lab_procedures', 'num_procedures',\n",
       "       'num_medications', 'number_outpatient', 'number_emergency',\n",
       "       'number_inpatient', 'number_diagnoses', 'metformin',\n",
       "       ...\n",
       "       'admission_source_id_8', 'admission_source_id_9',\n",
       "       'admission_source_id_10', 'admission_source_id_11',\n",
       "       'admission_source_id_13', 'admission_source_id_14',\n",
       "       'admission_source_id_17', 'admission_source_id_20',\n",
       "       'admission_source_id_22', 'admission_source_id_25'],\n",
       "      dtype='object', length=140)"
      ]
     },
     "execution_count": 36,
     "metadata": {},
     "output_type": "execute_result"
    }
   ],
   "source": [
    "df_2.columns"
   ]
  },
  {
   "cell_type": "code",
   "execution_count": 38,
   "metadata": {},
   "outputs": [],
   "source": [
    "#Construct predicted variable 'readmitted_yes' and predictors\n",
    "Y=df_2['readmitted_yes']\n",
    "X=df_2.drop('readmitted_urgent',axis=1)\n",
    "X=X.drop('readmitted_yes',axis=1)\n",
    "seed = 7\n",
    "test_size = 0.33\n",
    "X_train, X_test, Y_train, Y_test = model_selection.train_test_split(X, Y, test_size=test_size, random_state=seed)"
   ]
  },
  {
   "cell_type": "markdown",
   "metadata": {},
   "source": [
    "XGBoost - Model Construction"
   ]
  },
  {
   "cell_type": "markdown",
   "metadata": {},
   "source": [
    "Since logistic regression cannot generate a satisfying result with a high true positive rate and area under the curve, we decided to use an XGBoost model to obtain a better performance. The first reason we decided to use the XGBoost model is that it can reduce bias by adding new trees in the model. The model also contains a built-in cross-validation method to tune various hyperparameters. Last but not least, the model contains a regularization parameter that can reduce overfitting. Due to the reasons above, we decided to construct an XGBoost model with optimal hyperparameters obtained by cross-validation."
   ]
  },
  {
   "cell_type": "code",
   "execution_count": 39,
   "metadata": {
    "scrolled": true
   },
   "outputs": [
    {
     "name": "stderr",
     "output_type": "stream",
     "text": [
      "Series.base is deprecated and will be removed in a future version\n"
     ]
    }
   ],
   "source": [
    "dtrain = xgb.DMatrix(X_train, label=Y_train)\n",
    "dtest = xgb.DMatrix(X_test, label=Y_test)"
   ]
  },
  {
   "cell_type": "markdown",
   "metadata": {},
   "source": [
    "Parameter Tuning"
   ]
  },
  {
   "cell_type": "code",
   "execution_count": 40,
   "metadata": {},
   "outputs": [],
   "source": [
    "#Define function for tuning the number of estimators\n",
    "def modelfit(alg, X_train, y_train, useTrainCV=True, cv_folds=5, early_stopping_rounds=50):\n",
    "    \n",
    "    if useTrainCV:\n",
    "        dtrain = xgb.DMatrix(X_train, label=y_train)\n",
    "        xgb_param = alg.get_xgb_params()\n",
    "        xgtrain = dtrain\n",
    "        cvresult = xgb.cv(xgb_param, xgtrain, num_boost_round=alg.get_params()['n_estimators'], nfold=cv_folds,\n",
    "            metrics='auc', early_stopping_rounds=early_stopping_rounds)\n",
    "        alg.set_params(n_estimators=cvresult.shape[0])\n",
    "    \n",
    "    #Fit the algorithm on the data\n",
    "    alg.fit(X_train, y_train,eval_metric='auc')\n",
    "        \n",
    "    #Predict training set:\n",
    "    dtrain_predictions = alg.predict(X_train)\n",
    "    dtrain_predprob = alg.predict_proba(X_train)[:,1]\n",
    "        \n",
    "    #Print model report:\n",
    "    print(\"\\nModel Report\")\n",
    "    print(\"The optimal number of trees is \", cvresult.shape[0])\n",
    "    print (\"Accuracy : %.4g\" % sklearn.metrics.accuracy_score(y_train, dtrain_predictions))\n",
    "    print (\"AUC Score (Train): %f\" % sklearn.metrics.roc_auc_score(y_train, dtrain_predprob))"
   ]
  },
  {
   "cell_type": "markdown",
   "metadata": {},
   "source": [
    "To Tune the parameters of the XGBoost Model, we decided to use the 5-fold cross-validation on the training data. We first tune the number of estimators included in the model with a learning rate of 0.1. The optimum number of estimators is shown below:"
   ]
  },
  {
   "cell_type": "code",
   "execution_count": 41,
   "metadata": {},
   "outputs": [
    {
     "name": "stdout",
     "output_type": "stream",
     "text": [
      "\n",
      "Model Report\n",
      "The optimal number of trees is  225\n",
      "Accuracy : 0.6905\n",
      "AUC Score (Train): 0.744665\n"
     ]
    }
   ],
   "source": [
    "#Tune the number of estimators\n",
    "xgb1 = XGBClassifier(\n",
    " learning_rate =0.1,\n",
    " n_estimators=500,\n",
    " max_depth=5,\n",
    " min_child_weight=1,\n",
    " gamma=0,\n",
    " subsample=0.8,\n",
    " colsample_bytree=0.8,\n",
    " objective= 'binary:logistic',\n",
    " nthread=4,\n",
    " scale_pos_weight=1,\n",
    " seed=27)\n",
    "modelfit(xgb1, X_train, Y_train)"
   ]
  },
  {
   "cell_type": "markdown",
   "metadata": {},
   "source": [
    "Next, we decided to train the maximum depth and minimum child weight of each tress. The outcome is shown below:"
   ]
  },
  {
   "cell_type": "code",
   "execution_count": 42,
   "metadata": {},
   "outputs": [
    {
     "data": {
      "text/plain": [
       "{'max_depth': 4, 'min_child_weight': 4}"
      ]
     },
     "execution_count": 42,
     "metadata": {},
     "output_type": "execute_result"
    }
   ],
   "source": [
    "#Tune max_depth and min_child_weight\n",
    "param_test1 = {\n",
    " 'max_depth':range(2,8,2),\n",
    " 'min_child_weight':range(0,6,2)\n",
    "}\n",
    "gsearch1 = GridSearchCV(estimator = XGBClassifier( learning_rate =0.1, n_estimators=225, max_depth=5,\n",
    " min_child_weight=1, gamma=0, subsample=0.8, colsample_bytree=0.8,\n",
    " objective= 'binary:logistic', nthread=4, scale_pos_weight=1, seed=27), \n",
    " param_grid = param_test1, scoring='roc_auc',n_jobs=4,iid=False, cv=5)\n",
    "gsearch1.fit(X_train,Y_train)\n",
    "gsearch1.best_params_"
   ]
  },
  {
   "cell_type": "markdown",
   "metadata": {},
   "source": [
    "Since the increment for the maximum depth and minimum child weight for each tree is 2, we decided to tune these two parameters with a finer increment. The result is shown below:"
   ]
  },
  {
   "cell_type": "code",
   "execution_count": 43,
   "metadata": {},
   "outputs": [
    {
     "data": {
      "text/plain": [
       "{'max_depth': 4, 'min_child_weight': 3}"
      ]
     },
     "execution_count": 43,
     "metadata": {},
     "output_type": "execute_result"
    }
   ],
   "source": [
    "param_test2 = {\n",
    " 'max_depth':[3,4,5],\n",
    " 'min_child_weight':[3,4,5]\n",
    "}\n",
    "gsearch2 = GridSearchCV(estimator = XGBClassifier( learning_rate=0.1, n_estimators=225, max_depth=4,\n",
    " min_child_weight=4, gamma=0, subsample=0.8, colsample_bytree=0.8,\n",
    " objective= 'binary:logistic', nthread=4, scale_pos_weight=1,seed=27), \n",
    " param_grid = param_test2, scoring='roc_auc',n_jobs=4,iid=False, cv=5)\n",
    "gsearch2.fit(X_train,Y_train)\n",
    "gsearch2.best_params_"
   ]
  },
  {
   "cell_type": "markdown",
   "metadata": {},
   "source": [
    "After tuning the maximum depth and minimum child weight, we wanted to tune the minimum loss reduction requirement gamma for tree partitioning. The result is shown below:"
   ]
  },
  {
   "cell_type": "code",
   "execution_count": 44,
   "metadata": {},
   "outputs": [
    {
     "data": {
      "text/plain": [
       "{'gamma': 0.0}"
      ]
     },
     "execution_count": 44,
     "metadata": {},
     "output_type": "execute_result"
    }
   ],
   "source": [
    "param_test3 = {\n",
    " 'gamma':[i/10.0 for i in range(0,5)]\n",
    "}\n",
    "gsearch3 = GridSearchCV(estimator = XGBClassifier( learning_rate =0.1, n_estimators=225, max_depth=4,\n",
    " min_child_weight=3, gamma=0, subsample=0.8, colsample_bytree=0.8,\n",
    " objective= 'binary:logistic', nthread=4, scale_pos_weight=1,seed=27), \n",
    " param_grid = param_test3, scoring='roc_auc',n_jobs=4,iid=False, cv=5)\n",
    "gsearch3.fit(X_train,Y_train)\n",
    "gsearch3.best_params_"
   ]
  },
  {
   "cell_type": "markdown",
   "metadata": {},
   "source": [
    "After tuning the model's maximum depth, minimum child weight, and gamma, we wanted to tune the optimum number of trees again. The result is shown below:"
   ]
  },
  {
   "cell_type": "code",
   "execution_count": 45,
   "metadata": {
    "scrolled": true
   },
   "outputs": [
    {
     "name": "stderr",
     "output_type": "stream",
     "text": [
      "Series.base is deprecated and will be removed in a future version\n"
     ]
    },
    {
     "name": "stdout",
     "output_type": "stream",
     "text": [
      "\n",
      "Model Report\n",
      "The optimal number of trees is  344\n",
      "Accuracy : 0.6788\n",
      "AUC Score (Train): 0.727349\n"
     ]
    }
   ],
   "source": [
    "xgb2 = XGBClassifier(\n",
    " learning_rate =0.1,\n",
    " n_estimators=500,\n",
    " max_depth=4,\n",
    " min_child_weight=3,\n",
    " gamma=0.0,\n",
    " subsample=0.8,\n",
    " colsample_bytree=0.8,\n",
    " objective= 'binary:logistic',\n",
    " nthread=4,\n",
    " scale_pos_weight=1,\n",
    " seed=27)\n",
    "modelfit(xgb2, X_train, Y_train)"
   ]
  },
  {
   "cell_type": "markdown",
   "metadata": {},
   "source": [
    "After tuning the optimal number of parameters again, we wanted to tune the subsample ratio of the training data and the total variables to prevent overfitting. The result is shown below:"
   ]
  },
  {
   "cell_type": "code",
   "execution_count": 46,
   "metadata": {},
   "outputs": [
    {
     "data": {
      "text/plain": [
       "{'colsample_bytree': 0.6, 'subsample': 0.6}"
      ]
     },
     "execution_count": 46,
     "metadata": {},
     "output_type": "execute_result"
    }
   ],
   "source": [
    "param_test4 = {\n",
    " 'subsample':[i/10.0 for i in range(6,10)],\n",
    " 'colsample_bytree':[i/10.0 for i in range(6,10)]\n",
    "}\n",
    "gsearch4 = GridSearchCV(estimator = XGBClassifier( learning_rate =0.1, n_estimators=344, max_depth=4,\n",
    " min_child_weight=3, gamma=0, subsample=0.8, colsample_bytree=0.8,\n",
    " objective= 'binary:logistic', nthread=4, scale_pos_weight=1,seed=27), \n",
    " param_grid = param_test4, scoring='roc_auc',n_jobs=4,iid=False, cv=5)\n",
    "gsearch4.fit(X_train,Y_train)\n",
    "gsearch4.best_params_"
   ]
  },
  {
   "cell_type": "markdown",
   "metadata": {},
   "source": [
    "After tuning the subsample ratios for training data and variables, we wanted to tune the L1 regularization parameter alpha. The result is shown below:"
   ]
  },
  {
   "cell_type": "code",
   "execution_count": 47,
   "metadata": {},
   "outputs": [
    {
     "data": {
      "text/plain": [
       "{'reg_alpha': 1}"
      ]
     },
     "execution_count": 47,
     "metadata": {},
     "output_type": "execute_result"
    }
   ],
   "source": [
    "param_test5 = {\n",
    " 'reg_alpha':[1e-5, 1e-2, 0.1, 1, 100]\n",
    "}\n",
    "gsearch5 = GridSearchCV(estimator = XGBClassifier( learning_rate =0.1, n_estimators=344, max_depth=4,\n",
    " min_child_weight=3, gamma=0, subsample=0.6, colsample_bytree=0.6,\n",
    " objective= 'binary:logistic', nthread=4, scale_pos_weight=1,seed=27), \n",
    " param_grid = param_test5, scoring='roc_auc',n_jobs=4,iid=False, cv=5)\n",
    "gsearch5.fit(X_train,Y_train)\n",
    "gsearch5.best_params_"
   ]
  },
  {
   "cell_type": "markdown",
   "metadata": {},
   "source": [
    "Now we wanted to tune alpha with a finer increment. The optimal alpha is shown below:"
   ]
  },
  {
   "cell_type": "code",
   "execution_count": 48,
   "metadata": {},
   "outputs": [
    {
     "data": {
      "text/plain": [
       "{'reg_alpha': 5}"
      ]
     },
     "execution_count": 48,
     "metadata": {},
     "output_type": "execute_result"
    }
   ],
   "source": [
    "param_test6 = {\n",
    " 'reg_alpha':[1, 5, 10]\n",
    "}\n",
    "gsearch6 = GridSearchCV(estimator = XGBClassifier( learning_rate =0.1, n_estimators=344, max_depth=4,\n",
    " min_child_weight=3, gamma=0, subsample=0.6, colsample_bytree=0.6, reg_alpha=1,\n",
    " objective= 'binary:logistic', nthread=4, scale_pos_weight=1,seed=27), \n",
    " param_grid = param_test6, scoring='roc_auc',n_jobs=4,iid=False, cv=5)\n",
    "gsearch6.fit(X_train,Y_train)\n",
    "gsearch6.best_params_"
   ]
  },
  {
   "cell_type": "markdown",
   "metadata": {},
   "source": [
    "After tuning all parameters of the model, we reduced the learning rate from 0.1 to 0.01 and tried to find the optimal number of trees given the 0.01 learning rate. The outcome is shown below:"
   ]
  },
  {
   "cell_type": "code",
   "execution_count": 49,
   "metadata": {},
   "outputs": [
    {
     "name": "stderr",
     "output_type": "stream",
     "text": [
      "Series.base is deprecated and will be removed in a future version\n"
     ]
    },
    {
     "name": "stdout",
     "output_type": "stream",
     "text": [
      "\n",
      "Model Report\n",
      "The optimal number of trees is  2944\n",
      "Accuracy : 0.665\n",
      "AUC Score (Train): 0.707981\n"
     ]
    }
   ],
   "source": [
    "xgb3 = XGBClassifier(\n",
    " learning_rate =0.01,\n",
    " n_estimators=5000,\n",
    " max_depth=4,\n",
    " min_child_weight=3,\n",
    " gamma=0,\n",
    " subsample=0.6,\n",
    " colsample_bytree=0.6,\n",
    " reg_alpha=5,\n",
    " objective= 'binary:logistic',\n",
    " nthread=4,\n",
    " scale_pos_weight=1,\n",
    " seed=27)\n",
    "modelfit(xgb3, X_train, Y_train)"
   ]
  },
  {
   "cell_type": "markdown",
   "metadata": {},
   "source": [
    "After tuning all the parameters, we trained the XGBoost Model with our training data. By fitting the model on the training data, we obtained a training accuracy and a true positive rate shown below:"
   ]
  },
  {
   "cell_type": "code",
   "execution_count": 50,
   "metadata": {},
   "outputs": [],
   "source": [
    "model_param = {'max_depth': 4,'min_child_weight': 3, 'eta': 0.01, 'gamma': 0, 'subsample': 0.6,'colsample_bytree': 0.6,'reg_alpha': 5,'objective': 'binary:logistic','nthread': 4,'scale_pos_weight': 1,'seed': 27,'eval_metric': 'auc'}\n",
    "num_round=2944\n",
    "model = xgb.train(model_param, dtrain, num_round)"
   ]
  },
  {
   "cell_type": "code",
   "execution_count": 54,
   "metadata": {},
   "outputs": [
    {
     "name": "stdout",
     "output_type": "stream",
     "text": [
      "Training Accuracy: 64.87%\n",
      "Training True Positive Rate: 66.29%\n"
     ]
    }
   ],
   "source": [
    "# evaluate training accuracy\n",
    "y_train_pred = model.predict(dtrain)\n",
    "predictions_train = []\n",
    "for value in y_train_pred:\n",
    "    if value <=0.4:\n",
    "        predictions_train.append(0)\n",
    "    else:\n",
    "        predictions_train.append(1)\n",
    "accuracy_train = sklearn.metrics.accuracy_score(Y_train, predictions_train)\n",
    "print(\"Training Accuracy: %.2f%%\" % (accuracy_train * 100.0))\n",
    "tn, fp, fn, tp = confusion_matrix(Y_train, predictions_train).ravel()\n",
    "print(\"Training True Positive Rate: %.2f%%\" % (tp/(tp+fn) * 100.0))"
   ]
  },
  {
   "cell_type": "markdown",
   "metadata": {},
   "source": [
    "The ROC curve is shown below, with an area under the curve as 0.71."
   ]
  },
  {
   "cell_type": "code",
   "execution_count": 55,
   "metadata": {
    "scrolled": true
   },
   "outputs": [
    {
     "data": {
      "image/png": "[encoded data removed]",
      "text/plain": [
       "<Figure size 432x288 with 1 Axes>"
      ]
     },
     "metadata": {
      "needs_background": "light"
     },
     "output_type": "display_data"
    }
   ],
   "source": [
    "fpr, tpr, _ = sklearn.metrics.roc_curve(Y_train,  y_train_pred)\n",
    "auc = sklearn.metrics.roc_auc_score(Y_train,  y_train_pred)\n",
    "plt.plot(fpr,tpr,label=\"data, auc=\"+str(auc))\n",
    "plt.legend(loc=4)\n",
    "plt.show()"
   ]
  },
  {
   "cell_type": "markdown",
   "metadata": {},
   "source": [
    "After evaluating the performance of the model on the training data, we need to evaluate the model's performance on the test data. The testing accuracy and true positive rate are shown below:"
   ]
  },
  {
   "cell_type": "code",
   "execution_count": 66,
   "metadata": {},
   "outputs": [
    {
     "name": "stdout",
     "output_type": "stream",
     "text": [
      "Accuracy: 62.45%\n",
      "Test True Positive Rate: 64.63%\n"
     ]
    }
   ],
   "source": [
    "# evaluate predictions accuracy\n",
    "ypred = model.predict(dtest)\n",
    "predictions = []\n",
    "for value in ypred:\n",
    "    if value <=0.4:\n",
    "        predictions.append(0)\n",
    "    else:\n",
    "        predictions.append(1)\n",
    "accuracy = sklearn.metrics.accuracy_score(Y_test, predictions)\n",
    "print(\"Accuracy: %.2f%%\" % (accuracy * 100.0))\n",
    "tn, fp, fn, tp = confusion_matrix(Y_test, predictions).ravel()\n",
    "print(\"Test True Positive Rate: %.2f%%\" % (tp/(tp+fn) * 100.0))"
   ]
  },
  {
   "cell_type": "markdown",
   "metadata": {},
   "source": [
    "The ROC curve of the test data is shown below, with an area under the curve of 0.68."
   ]
  },
  {
   "cell_type": "code",
   "execution_count": 57,
   "metadata": {},
   "outputs": [
    {
     "data": {
      "image/png": "[encoded data removed]",
      "text/plain": [
       "<Figure size 432x288 with 1 Axes>"
      ]
     },
     "metadata": {
      "needs_background": "light"
     },
     "output_type": "display_data"
    }
   ],
   "source": [
    "fpr, tpr, _ = sklearn.metrics.roc_curve(Y_test, ypred)\n",
    "auc = sklearn.metrics.roc_auc_score(Y_test, ypred)\n",
    "plt.plot(fpr,tpr,label=\"data, auc=\"+str(auc))\n",
    "plt.legend(loc=4)\n",
    "plt.show() "
   ]
  },
  {
   "cell_type": "markdown",
   "metadata": {},
   "source": [
    "To further analyze the XGBoost Model, we want to understand which features are more important in determining readmission. We first plotted the importance plots with weight, cover, and gain as the options below."
   ]
  },
  {
   "cell_type": "code",
   "execution_count": 58,
   "metadata": {},
   "outputs": [
    {
     "data": {
      "image/png": "[encoded data removed]",
      "text/plain": [
       "<Figure size 432x288 with 1 Axes>"
      ]
     },
     "metadata": {
      "needs_background": "light"
     },
     "output_type": "display_data"
    }
   ],
   "source": [
    "xgb.plot_importance(model, importance_type=\"weight\",max_num_features=10)\n",
    "pl.title(\"Importance Plot with the Weight Option\")\n",
    "pl.show()"
   ]
  },
  {
   "cell_type": "code",
   "execution_count": 59,
   "metadata": {},
   "outputs": [
    {
     "data": {
      "image/png": "[encoded data removed]",
      "text/plain": [
       "<Figure size 432x288 with 1 Axes>"
      ]
     },
     "metadata": {
      "needs_background": "light"
     },
     "output_type": "display_data"
    }
   ],
   "source": [
    "xgb.plot_importance(model, importance_type=\"cover\",max_num_features=10)\n",
    "pl.title(\"Importance Plot with the Cover Option\")\n",
    "pl.show()"
   ]
  },
  {
   "cell_type": "code",
   "execution_count": 60,
   "metadata": {},
   "outputs": [
    {
     "data": {
      "image/png": "[encoded data removed]",
      "text/plain": [
       "<Figure size 432x288 with 1 Axes>"
      ]
     },
     "metadata": {
      "needs_background": "light"
     },
     "output_type": "display_data"
    }
   ],
   "source": [
    "xgb.plot_importance(model, importance_type=\"gain\",max_num_features=10)\n",
    "pl.title(\"Importance Plot with the Gain Option\")\n",
    "pl.show()"
   ]
  },
  {
   "cell_type": "markdown",
   "metadata": {},
   "source": [
    "From the three importance plots above, we can see that the most important features are different on each plot. It would be difficult to distinguish the impotance of different features truly. Therefore, we decided to use the Shapley Additive exPlanations (SHAP) values to interpret features. The twenty features with the highest SHAP is plotted below."
   ]
  },
  {
   "cell_type": "code",
   "execution_count": 61,
   "metadata": {},
   "outputs": [
    {
     "name": "stderr",
     "output_type": "stream",
     "text": [
      "Setting feature_perturbation = \"tree_path_dependent\" because no background data was given.\n"
     ]
    }
   ],
   "source": [
    "shap_values2=shap.TreeExplainer(model).shap_values(X_test)"
   ]
  },
  {
   "cell_type": "code",
   "execution_count": 62,
   "metadata": {},
   "outputs": [
    {
     "data": {
      "image/png": "[encoded data removed]",
      "text/plain": [
       "<Figure size 576x684 with 2 Axes>"
      ]
     },
     "metadata": {
      "needs_background": "light"
     },
     "output_type": "display_data"
    }
   ],
   "source": [
    "shap.summary_plot(shap_values2,X_test)"
   ]
  },
  {
   "cell_type": "markdown",
   "metadata": {},
   "source": [
    "From the Shap plot above, we can see that the most important features in our model include number of inpatient visits of the patient in the year preceding the encounter, the number of diagnoses entered to the system, whether diabetes medication has been prescribed, patient's age, and the number of outpatient visits of the patient. We can see that readmission probability is positively correlated with the number of inpatient visits, the number of diagnoses entered, age, and the number of outpatient visits. Patient being prescribed with diabetes medication also has a higher probability of being readmitted. An important feature that should be analyzed further is metformin medication. The metformin medication is the first-line medication for the treatment of type 2 diabetes. To further analyze the relationship between the metformin medication and the readmission probability, we plotted the dependence plot below:"
   ]
  },
  {
   "cell_type": "code",
   "execution_count": 67,
   "metadata": {
    "scrolled": true
   },
   "outputs": [
    {
     "data": {
      "image/png": "[encoded data removed]",
      "text/plain": [
       "<Figure size 540x360 with 2 Axes>"
      ]
     },
     "metadata": {
      "needs_background": "light"
     },
     "output_type": "display_data"
    }
   ],
   "source": [
    "shap.dependence_plot(\"metformin\", shap_values2, X_test)"
   ]
  },
  {
   "cell_type": "markdown",
   "metadata": {},
   "source": [
    "From the dependence plot above, we can see that, for people with age less than 60, an increase in metformin medication can decrease readmission probability. However, for people age 60 or above, the relationship between metformin medication and readmission probability is less significant."
   ]
  },
  {
   "cell_type": "markdown",
   "metadata": {},
   "source": [
    "Conclusion"
   ]
  },
  {
   "cell_type": "markdown",
   "metadata": {},
   "source": [
    "In this project, our objective is to predict the probability of readmission for diabetes patients. We have conducted data cleaning on the diabetes patients dataset from 130 US hospitals from 1999 to 2008 to remove variables with a high percentage of missing values and features with zero variability. Since each diagnosis has hundreds of ICD9 values, we decided to group these values into twenty disease categories to improve efficiency for model construction.\n",
    "\n",
    "To conduct prediction on readmission probability, we have constructed a logistic regression model and an XGBoost model. To obtain the optimal performance on the XGBoost model, we used fivefold cross-validation to tune hyperparameters including maximum depth for each tree, minimum child weight, gamma which specifies the minimum loss reduction required for each split, the fraction of observations to be randomly sampled for each tree, the fraction of features to be randomly sampled for each tree, and the L1 regularization parameter alpha. By training the XGBoost model on the training set and fitting it on the test set, AUC of the training set and the test set are 0.71 and 0.68, respectively. The training and test recall are 66.29% and 64.63%, respectively. The result shows that the XGBoost model has a better performance than the logistic regression model. To discover important features of the XGBoost model and their relationship with readmission probability, we have constructed a Shap value plot and dependence plot. We discovered that the number of inpatient visits, number of diagnoses in the system, whether diabetes medication has been prescribed, patient's age, and the number of outpatient visits are the most important features in our model. Another important feature that is worth to be further analyzed is metformin medication. We have discovered that for patients with age less than 60, taking metformin may reduce the probability of readmission. This finding may encourage hospitals to analyze further the positive effect of metformin medication on diabetes patients.\n",
    "\n",
    "There is one improvement that can be made to our model. Although we grouped various diagnoses into more general categories for model efficiency, we might have missed some important disease that can significantly affect readmission. By including these diseases in our model features, we might be able to improve our model performance."
   ]
  }
 ],
 "metadata": {
  "kernelspec": {
   "display_name": "Python 3",
   "language": "python",
   "name": "python3"
  },
  "language_info": {
   "codemirror_mode": {
    "name": "ipython",
    "version": 3
   },
   "file_extension": ".py",
   "mimetype": "text/x-python",
   "name": "python",
   "nbconvert_exporter": "python",
   "pygments_lexer": "ipython3",
   "version": "3.7.3"
  }
 },
 "nbformat": 4,
 "nbformat_minor": 2
}
